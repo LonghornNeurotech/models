{
 "cells": [
  {
   "cell_type": "code",
   "execution_count": null,
   "id": "34faa6af",
   "metadata": {},
   "outputs": [],
   "source": [
    "import os\n",
    "import pandas as pd\n",
    "import numpy as np\n",
    "from sklearn.preprocessing import StandardScaler\n",
    "from sklearn.metrics import classification_report"
   ]
  },
  {
   "cell_type": "code",
   "execution_count": null,
   "id": "f8196364",
   "metadata": {},
   "outputs": [],
   "source": [
    "train_folder = \"~/neurotech/grasp-and-lift/train\""
   ]
  },
  {
   "cell_type": "code",
   "execution_count": null,
   "id": "7fbbd5f0",
   "metadata": {},
   "outputs": [],
   "source": [
    "data_list = []\n",
    "\n",
    "for subject in range(1, 13):\n",
    "    for series in range(1, 9):\n",
    "        data_file = os.path.join(train_folder, f\"subj{subject}_series{series}_data.csv\")\n",
    "        events_file = os.path.join(train_folder, f\"subj{subject}_series{series}_events.csv\")\n",
    "        data_df = pd.read_csv(data_file)\n",
    "        events_df = pd.read_csv(events_file)\n",
    "        merged_df = pd.merge(data_df, events_df, on=\"id\")\n",
    "        data_list.append(merged_df)\n",
    "        print(f'Loaded data for subject {subject} series {series}')\n",
    "\n",
    "combined_df = pd.concat(data_list, ignore_index=True)\n",
    "print(f\"\\nCombined DataFrame shape: {combined_df.shape}\")"
   ]
  },
  {
   "cell_type": "code",
   "execution_count": null,
   "id": "1b54b0ac",
   "metadata": {},
   "outputs": [],
   "source": [
    "id_parts = combined_df[\"id\"].str.split(\"_\", expand=True)\n",
    "\n",
    "combined_df[\"subject\"] = id_parts[0]\n",
    "combined_df[\"series\"] = id_parts[1]\n",
    "combined_df[\"time_point\"] = id_parts[2]\n",
    "combined_df[\"time_point\"] = combined_df[\"time_point\"].astype(int)\n",
    "combined_df['subject_series'] = combined_df['subject'] + \"_\" + combined_df['series']"
   ]
  },
  {
   "cell_type": "code",
   "execution_count": null,
   "id": "61765812",
   "metadata": {},
   "outputs": [],
   "source": [
    "time_threshold = 100000 \n",
    "train_data = []\n",
    "test_data = []\n",
    "\n",
    "for subject_series in combined_df['subject_series'].unique():\n",
    "    subject_series_data = combined_df[combined_df['subject_series'] == subject_series]\n",
    "    subject_series_data = subject_series_data.sort_values('time_point')\n",
    "    train_subset = subject_series_data[subject_series_data['time_point'] <= time_threshold]\n",
    "    test_subset = subject_series_data[subject_series_data['time_point'] > time_threshold]\n",
    "    train_data.append(train_subset)\n",
    "    test_data.append(test_subset)\n",
    "train_df = pd.concat(train_data, ignore_index=True)\n",
    "test_df = pd.concat(test_data, ignore_index=True)"
   ]
  },
  {
   "cell_type": "code",
   "execution_count": null,
   "id": "f091d3f9",
   "metadata": {},
   "outputs": [],
   "source": [
    "for col in train_df.columns:\n",
    "    print(col)"
   ]
  },
  {
   "cell_type": "code",
   "execution_count": null,
   "id": "300de5f1",
   "metadata": {},
   "outputs": [],
   "source": [
    "electrode_columns = [\"Fp1\", \"Fp2\", \"F7\", \"F3\", \"Fz\", \"F4\", \"F8\", \"FC5\", \"FC1\", \"FC2\", \"FC6\", \"T7\", \"C3\", \"Cz\", \"C4\", \"T8\", \"TP9\", \"CP5\", \"CP1\", \"CP2\", \"CP6\", \"TP10\", \"P7\", \"P3\", \"Pz\", \"P4\", \"P8\", \"PO9\", \"O1\", \"Oz\", \"O2\", \"PO10\"]\n",
    "event_columns = [\"HandStart\", \"FirstDigitTouch\", \"BothStartLoadPhase\", \"LiftOff\", \"Replace\", \"BothReleased\"]\n",
    "lookback = 10"
   ]
  },
  {
   "cell_type": "code",
   "execution_count": null,
   "id": "a6a67003",
   "metadata": {},
   "outputs": [],
   "source": [
    "X_train_seq = []\n",
    "y_train_seq = []"
   ]
  },
  {
   "cell_type": "code",
   "execution_count": null,
   "id": "96234e7f",
   "metadata": {},
   "outputs": [],
   "source": [
    "for i in range(lookback, len(train_df)):\n",
    "    X_train_seq.append(train_df.iloc[i-lookback:i][electrode_columns].values)\n",
    "    y_train_seq.append(train_df.iloc[i][event_columns].values)"
   ]
  },
  {
   "cell_type": "code",
   "execution_count": null,
   "id": "00fe298a",
   "metadata": {},
   "outputs": [],
   "source": [
    "X_train_seq = np.array(X_train_seq)\n",
    "y_train_seq = np.array(y_train_seq)\n",
    "\n",
    "X_test_seq = []\n",
    "y_test_seq = []"
   ]
  },
  {
   "cell_type": "code",
   "execution_count": null,
   "id": "c50fb915",
   "metadata": {},
   "outputs": [],
   "source": [
    "for i in range(lookback, len(test_df)):\n",
    "    X_test_seq.append(test_df.iloc[i-lookback:i][electrode_columns].values)\n",
    "    y_test_seq.append(test_df.iloc[i][event_columns].values)"
   ]
  },
  {
   "cell_type": "code",
   "execution_count": null,
   "id": "99fb5d47",
   "metadata": {},
   "outputs": [],
   "source": [
    "X_test_seq = np.array(X_test_seq)\n",
    "y_test_seq = np.array(y_test_seq)\n",
    "\n",
    "scaler = StandardScaler()\n",
    "X_train_seq_scaled = scaler.fit_transform(X_train_seq.reshape(-1, X_train_seq.shape[-1])).reshape(X_train_seq.shape)\n",
    "X_test_seq_scaled = scaler.transform(X_test_seq.reshape(-1, X_test_seq.shape[-1])).reshape(X_test_seq.shape)"
   ]
  },
  {
   "cell_type": "code",
   "execution_count": null,
   "id": "1ae7858f",
   "metadata": {},
   "outputs": [],
   "source": [
    "from ncps.wirings import AutoNCP\n",
    "from ncps.tf import LTCCell\n",
    "import tensorflow as tf\n",
    "from ncps import wirings\n",
    "from sklearn.utils.class_weight import compute_class_weight\n",
    "from keras.callbacks import EarlyStopping, ModelCheckpoint\n",
    "import kerasncp as kncp\n",
    "from keras.utils.np_utils import to_categorical"
   ]
  },
  {
   "cell_type": "code",
   "execution_count": null,
   "id": "3e3c8cf9",
   "metadata": {},
   "outputs": [],
   "source": [
    "num_classes = len(event_columns)\n",
    "timesteps = lookback\n",
    "input_shape = (timesteps, len(electrode_columns))\n",
    "\n",
    "wiring = wirings.AutoNCP(100, 25)\n",
    "rnn_cell = LTCCell(wiring)\n",
    "\n",
    "model = keras.models.Sequential([\n",
    "    keras.layers.InputLayer(input_shape=input_shape),\n",
    "    keras.layers.Conv1D(filters=82, kernel_size=3, activation='relu', padding='causal'),\n",
    "    keras.layers.RNN(rnn_cell, return_sequences=True),\n",
    "    keras.layers.GlobalAveragePooling1D(),\n",
    "    keras.layers.Dense(num_classes, activation=\"sigmoid\")\n",
    "])\n",
    "\n",
    "model.compile(\n",
    "    optimizer=keras.optimizers.Adam(0.01),\n",
    "    loss='binary_crossentropy',\n",
    "    metrics=['accuracy']\n",
    ")"
   ]
  },
  {
   "cell_type": "code",
   "execution_count": null,
   "id": "e926cce5",
   "metadata": {},
   "outputs": [],
   "source": [
    "model.summary()"
   ]
  },
  {
   "cell_type": "code",
   "execution_count": null,
   "id": "8d2ba008",
   "metadata": {},
   "outputs": [],
   "source": [
    "early_stopping = EarlyStopping(monitor='val_accuracy', patience=100, verbose=1, mode='max')\n",
    "model_checkpoint = ModelCheckpoint('best_model.h5', monitor='val_accuracy', mode='max', verbose=1, save_best_only=True)\n",
    "\n",
    "history = model.fit(\n",
    "    X_train_seq_scaled,\n",
    "    y_train_seq,\n",
    "    epochs=1000,\n",
    "    batch_size=30,\n",
    "    validation_data=(X_test_seq_scaled, y_test_seq),\n",
    "    shuffle=True,\n",
    "    callbacks=[early_stopping, model_checkpoint]\n",
    ")"
   ]
  },
  {
   "cell_type": "code",
   "execution_count": null,
   "id": "35c87936",
   "metadata": {},
   "outputs": [],
   "source": [
    "test_loss, test_accuracy = model.evaluate(X_test_seq_scaled, y_test_seq)\n",
    "\n",
    "print(\"Test Loss:\", test_loss)\n",
    "print(\"Test Accuracy:\", test_accuracy)"
   ]
  },
  {
   "cell_type": "code",
   "execution_count": null,
   "id": "290d560a",
   "metadata": {},
   "outputs": [],
   "source": [
    "y_pred = model.predict(X_test_seq_scaled)\n",
    "y_pred_binary = (y_pred > 0.5).astype(int)\n",
    "report = classification_report(y_test_seq, y_pred_binary, target_names=event_columns)\n",
    "print(\"Classification Report:\")\n",
    "print(report)"
   ]
  }
 ],
 "metadata": {
  "kernelspec": {
   "display_name": "Python 3 (ipykernel)",
   "language": "python",
   "name": "python3"
  },
  "language_info": {
   "codemirror_mode": {
    "name": "ipython",
    "version": 3
   },
   "file_extension": ".py",
   "mimetype": "text/x-python",
   "name": "python",
   "nbconvert_exporter": "python",
   "pygments_lexer": "ipython3",
   "version": "3.9.5"
  }
 },
 "nbformat": 4,
 "nbformat_minor": 5
}
